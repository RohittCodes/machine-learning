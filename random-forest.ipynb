{
 "cells": [
  {
   "cell_type": "code",
   "execution_count": 2,
   "id": "6c2fac2d-367c-4f9d-ad47-82e7b6ed2649",
   "metadata": {},
   "outputs": [],
   "source": [
    "#Import required basic libraries\n",
    "import numpy as np # linear algebra\n",
    "import pandas as pd # data processing, CSV file I/O (e.g. pd.read_csv)\n",
    "import os"
   ]
  },
  {
   "cell_type": "code",
   "execution_count": 3,
   "id": "f3d13e66-ee70-4ea9-abbd-44f28fbc98e6",
   "metadata": {},
   "outputs": [
    {
     "name": "stdout",
     "output_type": "stream",
     "text": [
      "<class 'pandas.core.frame.DataFrame'>\n",
      "RangeIndex: 7352 entries, 0 to 7351\n",
      "Columns: 563 entries, tBodyAcc-mean()-X to Activity\n",
      "dtypes: float64(561), int64(1), object(1)\n",
      "memory usage: 31.6+ MB\n"
     ]
    },
    {
     "data": {
      "text/plain": [
       "Activity\n",
       "LAYING                1407\n",
       "STANDING              1374\n",
       "SITTING               1286\n",
       "WALKING               1226\n",
       "WALKING_UPSTAIRS      1073\n",
       "WALKING_DOWNSTAIRS     986\n",
       "Name: count, dtype: int64"
      ]
     },
     "execution_count": 3,
     "metadata": {},
     "output_type": "execute_result"
    }
   ],
   "source": [
    "data=pd.read_csv('./train.csv')\n",
    "data.describe()\n",
    "data\n",
    "data.info()\n",
    "data.columns\n",
    "data.Activity.value_counts() "
   ]
  },
  {
   "cell_type": "code",
   "execution_count": 4,
   "id": "17fdef8b-7385-4344-9c93-60d6f8cd8c27",
   "metadata": {},
   "outputs": [
    {
     "name": "stdout",
     "output_type": "stream",
     "text": [
      "<class 'pandas.core.frame.DataFrame'>\n",
      "RangeIndex: 7352 entries, 0 to 7351\n",
      "Columns: 564 entries, tBodyAcc-mean()-X to activity_code\n",
      "dtypes: float64(561), int64(1), int8(1), object(1)\n",
      "memory usage: 31.6+ MB\n"
     ]
    },
    {
     "data": {
      "text/plain": [
       "(7352, 563)"
      ]
     },
     "execution_count": 4,
     "metadata": {},
     "output_type": "execute_result"
    }
   ],
   "source": [
    "data.shape\n",
    "data['activity_code'] = data.Activity.astype('category').cat.codes\n",
    "data.shape\n",
    "data.activity_code\n",
    "data1=data.drop('Activity',axis=1)\n",
    "data.info()\n",
    "data1.shape "
   ]
  },
  {
   "cell_type": "code",
   "execution_count": 5,
   "id": "e27588b5-f511-4d58-aaf8-6a3034646f43",
   "metadata": {},
   "outputs": [],
   "source": [
    "x_col=data1.columns.to_list()\n",
    "x_col.pop(-1)\n",
    "x_data=data1[x_col]\n",
    "y_col='activity_code'\n",
    "from sklearn.model_selection import train_test_split\n",
    "train_x,test_x,train_y,test_y=train_test_split(data1[x_col],data1[y_col].values,test_size=0.1)"
   ]
  },
  {
   "cell_type": "code",
   "execution_count": 6,
   "id": "1f45d368-a232-4969-a36c-db5e3acb410f",
   "metadata": {},
   "outputs": [
    {
     "data": {
      "text/plain": [
       "array([0, 2, 3, 1, 1, 2, 0, 0, 1, 0, 0, 2, 2, 5, 3, 2, 1, 3, 4, 5, 0, 5,\n",
       "       5, 1, 5, 5, 4, 4, 1, 1, 3, 1, 3, 3, 4, 5, 2, 3, 2, 5, 2, 1, 0, 3,\n",
       "       4, 0, 0, 1, 1, 2, 1, 0, 3, 2, 1, 3, 3, 0, 0, 2, 1, 2, 0, 5, 2, 0,\n",
       "       3, 2, 3, 3, 2, 5, 0, 1, 1, 2, 2, 0, 4, 4, 2, 1, 3, 5, 4, 4, 4, 5,\n",
       "       4, 0, 1, 1, 1, 0, 2, 5, 1, 2, 0, 0, 0, 1, 3, 5, 2, 3, 5, 0, 1, 3,\n",
       "       0, 3, 1, 3, 1, 4, 0, 5, 3, 1, 1, 5, 3, 3, 5, 3, 4, 1, 0, 4, 2, 0,\n",
       "       0, 5, 0, 4, 4, 1, 2, 2, 2, 3, 1, 1, 4, 0, 5, 0, 3, 3, 3, 0, 2, 2,\n",
       "       1, 1, 1, 4, 1, 4, 2, 5, 5, 3, 1, 4, 5, 3, 3, 1, 3, 3, 5, 2, 0, 5,\n",
       "       3, 3, 4, 2, 4, 2, 5, 1, 5, 2, 3, 1, 2, 5, 1, 5, 2, 1, 1, 2, 3, 5,\n",
       "       2, 5, 0, 5, 1, 4, 2, 3, 4, 1, 3, 2, 0, 2, 3, 5, 1, 1, 3, 0, 4, 5,\n",
       "       5, 0, 2, 2, 0, 4, 3, 4, 1, 1, 3, 5, 0, 3, 0, 4, 0, 2, 2, 1, 3, 0,\n",
       "       1, 3, 3, 0, 4, 0, 2, 0, 1, 4, 0, 0, 0, 3, 5, 0, 0, 5, 5, 3, 4, 1,\n",
       "       4, 2, 4, 2, 1, 4, 2, 3, 1, 1, 4, 2, 4, 0, 2, 0, 1, 2, 5, 3, 1, 1,\n",
       "       2, 0, 0, 3, 5, 3, 3, 4, 2, 2, 5, 1, 2, 3, 1, 3, 4, 3, 0, 0, 2, 4,\n",
       "       0, 3, 0, 2, 3, 2, 2, 5, 1, 1, 3, 2, 0, 4, 1, 0, 4, 1, 2, 4, 4, 5,\n",
       "       0, 3, 4, 2, 5, 1, 5, 4, 4, 3, 1, 2, 2, 4, 3, 1, 3, 4, 0, 0, 0, 1,\n",
       "       4, 0, 4, 3, 2, 1, 5, 0, 3, 5, 2, 2, 0, 2, 3, 1, 5, 3, 0, 4, 2, 5,\n",
       "       1, 4, 3, 4, 1, 1, 1, 2, 2, 1, 5, 2, 2, 3, 5, 4, 0, 1, 2, 2, 2, 5,\n",
       "       4, 0, 4, 0, 5, 0, 4, 3, 4, 5, 4, 3, 0, 1, 5, 2, 5, 1, 1, 5, 2, 0,\n",
       "       1, 0, 1, 2, 0, 4, 5, 2, 5, 1, 5, 4, 1, 3, 1, 4, 0, 1, 2, 5, 5, 5,\n",
       "       4, 0, 3, 4, 1, 5, 5, 4, 2, 4, 1, 1, 2, 4, 4, 0, 5, 5, 0, 0, 5, 3,\n",
       "       5, 0, 3, 3, 1, 1, 0, 1, 2, 0, 1, 3, 3, 4, 5, 2, 1, 5, 4, 0, 0, 5,\n",
       "       0, 3, 0, 2, 3, 3, 0, 0, 2, 3, 0, 2, 4, 3, 5, 2, 0, 2, 1, 2, 4, 0,\n",
       "       1, 0, 3, 1, 0, 0, 5, 3, 5, 1, 2, 1, 5, 0, 2, 3, 2, 0, 2, 5, 2, 5,\n",
       "       0, 5, 3, 0, 1, 0, 3, 2, 0, 2, 5, 3, 0, 0, 5, 0, 0, 0, 2, 3, 4, 4,\n",
       "       3, 4, 0, 3, 4, 1, 1, 4, 5, 0, 1, 1, 3, 1, 2, 3, 4, 2, 3, 2, 1, 3,\n",
       "       3, 0, 1, 1, 5, 4, 3, 3, 3, 3, 0, 0, 5, 5, 0, 2, 1, 2, 1, 4, 1, 3,\n",
       "       1, 4, 1, 4, 0, 1, 0, 4, 5, 3, 2, 2, 3, 4, 3, 1, 5, 1, 1, 0, 4, 1,\n",
       "       1, 0, 1, 5, 2, 4, 3, 1, 4, 1, 2, 4, 4, 2, 1, 1, 2, 0, 2, 2, 3, 1,\n",
       "       1, 0, 4, 1, 3, 5, 5, 3, 4, 3, 2, 2, 5, 3, 4, 2, 4, 0, 0, 3, 2, 2,\n",
       "       5, 4, 1, 4, 2, 4, 0, 0, 0, 1, 3, 5, 4, 3, 2, 0, 5, 1, 1, 0, 4, 2,\n",
       "       2, 0, 4, 2, 2, 4, 3, 4, 0, 5, 3, 1, 5, 3, 1, 3, 4, 1, 4, 4, 4, 5,\n",
       "       3, 1, 2, 1, 0, 0, 5, 5, 5, 3, 3, 4, 1, 2, 2, 3, 0, 5, 5, 2, 3, 1,\n",
       "       4, 4, 0, 2, 3, 3, 1, 3, 0, 4], dtype=int8)"
      ]
     },
     "execution_count": 6,
     "metadata": {},
     "output_type": "execute_result"
    }
   ],
   "source": [
    "train_x.shape,test_x.shape,train_y.shape,test_y.shape \n",
    "test_y"
   ]
  },
  {
   "cell_type": "code",
   "execution_count": 7,
   "id": "e75ba131-b2de-402e-a483-f8a710c258b5",
   "metadata": {},
   "outputs": [
    {
     "name": "stdout",
     "output_type": "stream",
     "text": [
      "Training Accuracy 0.9933494558645707\n",
      "Testing Accuracy 0.9836956521739131\n"
     ]
    }
   ],
   "source": [
    "# Try to build Logistic regression\n",
    "from sklearn.linear_model import LogisticRegression\n",
    "from sklearn.metrics import accuracy_score\n",
    "lg=LogisticRegression(max_iter=800, solver='sag')\n",
    "lg.fit(train_x,train_y)\n",
    "train_y_pred=lg.predict(train_x)\n",
    "test_y_pred= lg.predict(test_x)\n",
    "#\n",
    "print(\"Training Accuracy\",accuracy_score(train_y,train_y_pred))\n",
    "print(\"Testing Accuracy\", accuracy_score(test_y,test_y_pred)) "
   ]
  },
  {
   "cell_type": "code",
   "execution_count": 8,
   "id": "66379d52-7e51-436e-85b9-25680354e844",
   "metadata": {},
   "outputs": [
    {
     "data": {
      "text/plain": [
       "array([[132,   0,   0,   0,   0,   0],\n",
       "       [  0, 133,   5,   0,   0,   0],\n",
       "       [  0,   7, 120,   0,   0,   0],\n",
       "       [  0,   0,   0, 127,   0,   0],\n",
       "       [  0,   0,   0,   0, 109,   0],\n",
       "       [  0,   0,   0,   0,   0, 103]], dtype=int64)"
      ]
     },
     "execution_count": 8,
     "metadata": {},
     "output_type": "execute_result"
    }
   ],
   "source": [
    "from sklearn.metrics import confusion_matrix\n",
    "confusion_matrix(train_y,train_y_pred)\n",
    "confusion_matrix(test_y,test_y_pred) "
   ]
  },
  {
   "cell_type": "code",
   "execution_count": 9,
   "id": "36e497b4-7360-4241-8945-07b46c83fc85",
   "metadata": {},
   "outputs": [
    {
     "name": "stdout",
     "output_type": "stream",
     "text": [
      "Training Accuracy 1.0\n",
      "Testing Accuracy 0.9809782608695652\n"
     ]
    }
   ],
   "source": [
    "# Build Random Forest model using ensemble.RandomForestClassifier\n",
    "from sklearn.ensemble import RandomForestClassifier\n",
    "rf=RandomForestClassifier()\n",
    "rf.fit(train_x,train_y)\n",
    "train_y_pred=rf.predict(train_x)\n",
    "test_y_pred= rf.predict(test_x)\n",
    "#\n",
    "print(\"Training Accuracy\",accuracy_score(train_y,train_y_pred))\n",
    "print(\"Testing Accuracy\", accuracy_score(test_y,test_y_pred))"
   ]
  },
  {
   "cell_type": "code",
   "execution_count": 10,
   "id": "5e54a9ce-6441-491c-af24-c0fd5b0e80bb",
   "metadata": {},
   "outputs": [
    {
     "name": "stdout",
     "output_type": "stream",
     "text": [
      "Training Accuracy 1.0\n",
      "Testing Accuracy 0.9864130434782609\n"
     ]
    }
   ],
   "source": [
    "# Build Random Forest model using ensemble.RandomForestClassifier\n",
    "from sklearn.ensemble import RandomForestClassifier\n",
    "rf=RandomForestClassifier(criterion='entropy')\n",
    "rf.fit(train_x,train_y)\n",
    "train_y_pred=rf.predict(train_x)\n",
    "test_y_pred= rf.predict(test_x)\n",
    "#\n",
    "print(\"Training Accuracy\",accuracy_score(train_y,train_y_pred))\n",
    "print(\"Testing Accuracy\", accuracy_score(test_y,test_y_pred))"
   ]
  },
  {
   "cell_type": "code",
   "execution_count": 11,
   "id": "acbb51a3-7862-4ad5-bd07-1b78f2923b6b",
   "metadata": {},
   "outputs": [
    {
     "name": "stdout",
     "output_type": "stream",
     "text": [
      "Training Accuracy 0.9478536880290206\n",
      "Testing Accuracy 0.9375\n"
     ]
    }
   ],
   "source": [
    "# Build Random Forest model using ensemble.RandomForestClassifier\n",
    "from sklearn.ensemble import RandomForestClassifier\n",
    "rf=RandomForestClassifier(max_depth=5)\n",
    "rf.fit(train_x,train_y)\n",
    "train_y_pred=rf.predict(train_x)\n",
    "test_y_pred= rf.predict(test_x)\n",
    "#\n",
    "print(\"Training Accuracy\",accuracy_score(train_y,train_y_pred))\n",
    "print(\"Testing Accuracy\", accuracy_score(test_y,test_y_pred)) "
   ]
  },
  {
   "cell_type": "code",
   "execution_count": 12,
   "id": "4c9655b2-66c7-46d0-a45c-9a16a34f0af7",
   "metadata": {},
   "outputs": [
    {
     "name": "stdout",
     "output_type": "stream",
     "text": [
      "Training Accuracy 0.9963724304715841\n",
      "Testing Accuracy 0.9728260869565217\n"
     ]
    }
   ],
   "source": [
    "# Build Random Forest model using ensemble.RandomForestClassifier\n",
    "from sklearn.ensemble import RandomForestClassifier\n",
    "rf=RandomForestClassifier(max_depth=10)\n",
    "rf.fit(train_x,train_y)\n",
    "train_y_pred=rf.predict(train_x)\n",
    "test_y_pred= rf.predict(test_x)\n",
    "print(\"Training Accuracy\",accuracy_score(train_y,train_y_pred))\n",
    "print(\"Testing Accuracy\", accuracy_score(test_y,test_y_pred))"
   ]
  },
  {
   "cell_type": "code",
   "execution_count": 13,
   "id": "02932979-cf77-4986-bb84-d16c6ea53b14",
   "metadata": {},
   "outputs": [
    {
     "name": "stdout",
     "output_type": "stream",
     "text": [
      "Training Accuracy 1.0\n"
     ]
    }
   ],
   "source": [
    "# Build Random Forest model using ensemble.RandomForestClassifier\n",
    "from sklearn.ensemble import RandomForestClassifier\n",
    "rf=RandomForestClassifier(max_features='sqrt')\n",
    "rf.fit(train_x,train_y)\n",
    "train_y_pred=rf.predict(train_x)\n",
    "test_y_pred= rf.predict(test_x)\n",
    "#\n",
    "print(\"Training Accuracy\",accuracy_score(train_y,train_y_pred))"
   ]
  },
  {
   "cell_type": "code",
   "execution_count": null,
   "id": "7c9aedfc-8011-4b96-b2ac-73cb922b0f77",
   "metadata": {},
   "outputs": [],
   "source": []
  }
 ],
 "metadata": {
  "kernelspec": {
   "display_name": "Python 3 (ipykernel)",
   "language": "python",
   "name": "python3"
  },
  "language_info": {
   "codemirror_mode": {
    "name": "ipython",
    "version": 3
   },
   "file_extension": ".py",
   "mimetype": "text/x-python",
   "name": "python",
   "nbconvert_exporter": "python",
   "pygments_lexer": "ipython3",
   "version": "3.12.0"
  }
 },
 "nbformat": 4,
 "nbformat_minor": 5
}
