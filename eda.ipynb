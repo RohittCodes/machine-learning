{
 "cells": [
  {
   "cell_type": "code",
   "execution_count": null,
   "id": "868a72d2-1724-4084-bfd0-26e5bf824867",
   "metadata": {},
   "outputs": [],
   "source": [
    "import pandas as pd\n",
    "import io"
   ]
  },
  {
   "cell_type": "code",
   "execution_count": null,
   "id": "6357ab8e-e79b-4942-b08e-13b3ab0a28af",
   "metadata": {},
   "outputs": [],
   "source": [
    "toyotadf=pd.read_csv('/kaggle/input/toyotadataset/Toyota.csv',index_col=0,na_values=[\"??\",\"????\"])\n",
    "df = toyotadf.copy()\n",
    "toyotadf.shape"
   ]
  },
  {
   "cell_type": "code",
   "execution_count": null,
   "id": "fa785f42-8787-4f0a-b8d3-c0c208610ba8",
   "metadata": {},
   "outputs": [],
   "source": [
    "# Detecting and handling Missing Values\n",
    "toyotadf.info()\n",
    "toyotadf.isnull().sum()\n",
    "toyotadf['HP'].unique()"
   ]
  },
  {
   "cell_type": "code",
   "execution_count": null,
   "id": "2165ff40-debb-4ecd-a4f5-87ca1ad5ecf6",
   "metadata": {},
   "outputs": [],
   "source": [
    "import numpy as np\n",
    "np.unique(toyotadf['KM'])\n",
    "toyotadf['Doors'].unique()\n",
    "toyotadf['Automatic'].unique()\n",
    "toyotadf['MetColor'].unique()\n",
    "toyotadf.info() "
   ]
  },
  {
   "cell_type": "code",
   "execution_count": null,
   "id": "b1ef5288-80e2-498e-a1b7-7d2a60fd0181",
   "metadata": {},
   "outputs": [],
   "source": [
    "# Now KM and HP columns are identified as float \n",
    "toyotadf[['MetColor','Automatic']] = toyotadf[['MetColor','Automatic']].astype\n",
    "('object')"
   ]
  },
  {
   "cell_type": "code",
   "execution_count": null,
   "id": "7b6c0c57-cabc-42ed-8af0-c3e25410a676",
   "metadata": {},
   "outputs": [],
   "source": [
    "toyotadf['Doors'].unique()\n",
    "\n",
    "toyotadf['Doors'].replace('three',3,inplace=True)\n",
    "toyotadf['Doors'].replace('four',4,inplace=True)\n",
    "toyotadf['Doors'].replace('five',5,inplace=True)\n",
    "\n",
    "toyotadf['Doors'] = toyotadf['Doors'].astype('int')\n",
    "toyotadf['Doors'].unique()\n",
    "toyotadf.info() "
   ]
  },
  {
   "cell_type": "code",
   "execution_count": null,
   "id": "e7263f5d-9bf1-4692-8a18-44d1f185ec8d",
   "metadata": {},
   "outputs": [],
   "source": [
    "# Let's focus on NULL values....\n",
    "# Total no.of NULL values\n",
    "toyotadf.isnull().sum().sum() \n",
    "# Output(Missing values):"
   ]
  },
  {
   "cell_type": "code",
   "execution_count": null,
   "id": "7a1f7ea6-075a-48b6-a0e0-7432dccb041b",
   "metadata": {},
   "outputs": [],
   "source": [
    "# B. Whether to Handle or Remove Missing values???? \n",
    "# 'Age', 'KM', and 'HP' are numeric... Whehter to fill with mean of median value??\n",
    "toyotadf.describe()\n",
    "# Thumb Rule: for normal distribution use mean value for imputing; median for skewed distribution\n",
    "toyotadf.describe(exclude=['int','float'])\n",
    "toyotadf.describe(include='O')\n",
    "toyotadf['Age'].tail(10)\n",
    "toyotadf['Age'].mean()\n",
    "toyotadf['Age'].fillna(toyotadf['Age'].mean(), inplace=True)\n",
    "toyotadf['Age'].tail(10)\n",
    "toyotadf['KM'].head(10) "
   ]
  },
  {
   "cell_type": "code",
   "execution_count": null,
   "id": "64964d10-3ee7-49e2-a002-3bab6285c3d1",
   "metadata": {},
   "outputs": [],
   "source": [
    "toyotadf['KM'].fillna(toyotadf['KM'].median(), inplace=True)\n",
    "toyotadf['KM'].median()\n",
    "toyotadf['KM'].head(10)"
   ]
  }
 ],
 "metadata": {
  "kernelspec": {
   "display_name": "Python 3 (ipykernel)",
   "language": "python",
   "name": "python3"
  },
  "language_info": {
   "codemirror_mode": {
    "name": "ipython",
    "version": 3
   },
   "file_extension": ".py",
   "mimetype": "text/x-python",
   "name": "python",
   "nbconvert_exporter": "python",
   "pygments_lexer": "ipython3",
   "version": "3.12.0"
  }
 },
 "nbformat": 4,
 "nbformat_minor": 5
}
