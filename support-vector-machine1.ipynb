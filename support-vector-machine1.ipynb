{
 "cells": [
  {
   "cell_type": "code",
   "execution_count": 1,
   "id": "8c149e23-eaad-4882-8a01-e15fc1c44e38",
   "metadata": {},
   "outputs": [
    {
     "ename": "NameError",
     "evalue": "name 'train_x' is not defined",
     "output_type": "error",
     "traceback": [
      "\u001b[1;31m---------------------------------------------------------------------------\u001b[0m",
      "\u001b[1;31mNameError\u001b[0m                                 Traceback (most recent call last)",
      "Cell \u001b[1;32mIn[1], line 4\u001b[0m\n\u001b[0;32m      2\u001b[0m \u001b[38;5;28;01mfrom\u001b[39;00m \u001b[38;5;21;01msklearn\u001b[39;00m\u001b[38;5;21;01m.\u001b[39;00m\u001b[38;5;21;01msvm\u001b[39;00m \u001b[38;5;28;01mimport\u001b[39;00m SVC\n\u001b[0;32m      3\u001b[0m sv\u001b[38;5;241m=\u001b[39mSVC() \u001b[38;5;66;03m#default kernel is 'rbl'\u001b[39;00m\n\u001b[1;32m----> 4\u001b[0m sv\u001b[38;5;241m.\u001b[39mfit(\u001b[43mtrain_x\u001b[49m,train_y)\n\u001b[0;32m      5\u001b[0m train_y_pred\u001b[38;5;241m=\u001b[39msv\u001b[38;5;241m.\u001b[39mpredict(train_x)\n\u001b[0;32m      6\u001b[0m test_y_pred\u001b[38;5;241m=\u001b[39m sv\u001b[38;5;241m.\u001b[39mpredict(test_x)\n",
      "\u001b[1;31mNameError\u001b[0m: name 'train_x' is not defined"
     ]
    }
   ],
   "source": [
    "# Build SVM model using svm.SVC with default parameters. Default kernel is rbl\n",
    "from sklearn.svm import SVC\n",
    "sv=SVC() #default kernel is 'rbl'\n",
    "sv.fit(train_x,train_y)\n",
    "train_y_pred=sv.predict(train_x)\n",
    "test_y_pred= sv.predict(test_x)\n",
    "#\n",
    "print(\"Training Accuracy\",accuracy_score(train_y,train_y_pred))\n",
    "print(\"Testing Accuracy\", accuracy_score(test_y,test_y_pred)) "
   ]
  },
  {
   "cell_type": "code",
   "execution_count": null,
   "id": "c201fa4a-32a9-40f1-9d4f-0ab33a900ec3",
   "metadata": {},
   "outputs": [],
   "source": []
  }
 ],
 "metadata": {
  "kernelspec": {
   "display_name": "Python 3 (ipykernel)",
   "language": "python",
   "name": "python3"
  },
  "language_info": {
   "codemirror_mode": {
    "name": "ipython",
    "version": 3
   },
   "file_extension": ".py",
   "mimetype": "text/x-python",
   "name": "python",
   "nbconvert_exporter": "python",
   "pygments_lexer": "ipython3",
   "version": "3.12.0"
  }
 },
 "nbformat": 4,
 "nbformat_minor": 5
}
